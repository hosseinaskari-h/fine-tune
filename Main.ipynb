{
 "cells": [
  {
   "cell_type": "markdown",
   "metadata": {},
   "source": [
    "License"
   ]
  },
  {
   "cell_type": "markdown",
   "metadata": {},
   "source": [
    "Copyright 2024 Hossein Askari\n",
    "\n",
    "Permission is hereby granted, free of charge, to any person obtaining a copy of this software and associated documentation files (the “Software”), to deal in the Software without restriction, including without limitation the rights to use, copy, modify, merge, publish, distribute, sublicense, and/or sell copies of the Software, and to permit persons to whom the Software is furnished to do so, subject to the following conditions:\n",
    "\n",
    "The above copyright notice and this permission notice shall be included in all copies or substantial portions of the Software.\n",
    "\n",
    "THE SOFTWARE IS PROVIDED “AS IS”, WITHOUT WARRANTY OF ANY KIND, EXPRESS OR IMPLIED, INCLUDING BUT NOT LIMITED TO THE WARRANTIES OF MERCHANTABILITY, FITNESS FOR A PARTICULAR PURPOSE AND NONINFRINGEMENT. IN NO EVENT SHALL THE AUTHORS OR COPYRIGHT HOLDERS BE LIABLE FOR ANY CLAIM, DAMAGES OR OTHER LIABILITY, WHETHER IN AN ACTION OF CONTRACT, TORT OR OTHERWISE, ARISING FROM, OUT OF OR IN CONNECTION WITH THE SOFTWARE OR THE USE OR OTHER DEALINGS IN THE SOFTWARE."
   ]
  },
  {
   "cell_type": "markdown",
   "metadata": {},
   "source": [
    "requirements (use  python below 3.10 if you want to train the model and want tp use CUDA)"
   ]
  },
  {
   "cell_type": "code",
   "execution_count": null,
   "metadata": {},
   "outputs": [],
   "source": [
    "!pip install transformers pandas torch "
   ]
  },
  {
   "cell_type": "code",
   "execution_count": null,
   "metadata": {},
   "outputs": [],
   "source": [
    "## for checking gpu and cuda working properly\n",
    "import torch\n",
    "torch.cuda.is_available()\n",
    "!nvidia-smi"
   ]
  },
  {
   "cell_type": "markdown",
   "metadata": {},
   "source": [
    "function for cleaning the dataset from numbers and urls"
   ]
  },
  {
   "cell_type": "code",
   "execution_count": null,
   "metadata": {},
   "outputs": [],
   "source": [
    "import re\n",
    "\n",
    "def remove_mentions(text):\n",
    "    mention_pattern = r'@\\S+\\s'\n",
    "    clean_text = re.sub(mention_pattern, ' ', text)\n",
    "    return clean_text\n",
    "\n",
    "\n",
    "# Path to  original dataset\n",
    "input_file_path = './tweets.txt'\n",
    "# Path to the output file \n",
    "output_file_path = './cleaned_data.txt'\n",
    "\n",
    "with open(input_file_path, 'r', encoding='utf-8') as file:\n",
    "    lines = file.readlines()\n",
    "\n",
    "cleaned_lines = [remove_mentions(line) for line in lines]\n",
    "\n",
    "with open(output_file_path, 'w', encoding='utf-8') as file:\n",
    "    for line in cleaned_lines:\n",
    "        file.write(line)\n"
   ]
  },
  {
   "cell_type": "markdown",
   "metadata": {},
   "source": [
    "function for fine tuning GPT2 on our new  dataset"
   ]
  },
  {
   "cell_type": "code",
   "execution_count": null,
   "metadata": {},
   "outputs": [],
   "source": [
    "from transformers import GPT2Tokenizer, GPT2LMHeadModel, TextDataset, DataCollatorForLanguageModeling, Trainer, TrainingArguments\n",
    "\n",
    "tokenizer = GPT2Tokenizer.from_pretrained('gpt2')\n",
    "model = GPT2LMHeadModel.from_pretrained('gpt2')\n",
    "\n",
    "# Preparing dataset\n",
    "dataset = TextDataset(\n",
    "  tokenizer=tokenizer,\n",
    "  file_path=\"INSERT FILE PATH HERE\",\n",
    "  block_size=128\n",
    ")\n",
    "\n",
    "data_collator = DataCollatorForLanguageModeling(\n",
    "  tokenizer=tokenizer, mlm=False\n",
    ")\n",
    "\n",
    "# Training settings\n",
    "training_args = TrainingArguments(\n",
    "  output_dir=\"./finetuned\",\n",
    "  overwrite_output_dir=True,\n",
    "  num_train_epochs=4,\n",
    "  per_device_train_batch_size=4,\n",
    "  save_steps=13000,  # Save the model after every n steps\n",
    "  save_total_limit=2,  #  last 2 checkpoints will be kept\n",
    ")\n",
    "\n",
    "trainer = Trainer(\n",
    "  model=model,\n",
    "  args=training_args,\n",
    "  data_collator=data_collator,\n",
    "  train_dataset=dataset,\n",
    ")\n",
    "\n",
    "# Start \n",
    "trainer.train()\n",
    "\n",
    "# Save the final model and tokenizer \n",
    "model.save_pretrained('./finetuned')\n",
    "tokenizer.save_pretrained('./finetuned')\n"
   ]
  },
  {
   "cell_type": "markdown",
   "metadata": {},
   "source": [
    "if the GPT still has restrictions we need to fine tune it once more using LLm-Attack method \n",
    "https://github.com/llm-attacks/llm-attacks/tree/main"
   ]
  },
  {
   "cell_type": "code",
   "execution_count": null,
   "metadata": {},
   "outputs": [],
   "source": [
    "import pandas as pd\n",
    "from transformers import GPT2Tokenizer, GPT2LMHeadModel, Trainer, TrainingArguments\n",
    "from torch.utils.data import Dataset\n",
    "no_deprecation_warning=True\n",
    "# Load the dataset\n",
    "df = pd.read_csv(\"./harmful_behaviors.csv\")\n",
    "\n",
    "# Initializng the tokenizer and set the pad token\n",
    "tokenizer = GPT2Tokenizer.from_pretrained('gpt2')\n",
    "tokenizer.pad_token = tokenizer.eos_token\n",
    "\n",
    "# Tokenizing the 'goal' and 'target' columns\n",
    "max_length = 512  \n",
    "input_encodings = tokenizer(df['goal'].tolist(), padding=\"max_length\", truncation=True, max_length=max_length, return_tensors=\"pt\")\n",
    "target_encodings = tokenizer(df['target'].tolist(), padding=\"max_length\", truncation=True, max_length=max_length, return_tensors=\"pt\")\n",
    "\n",
    "# Creating a custom dataset\n",
    "class TextDataset(Dataset):\n",
    "    def __init__(self, input_encodings, target_encodings):\n",
    "        self.input_encodings = input_encodings\n",
    "        self.target_encodings = target_encodings\n",
    "\n",
    "    def __len__(self):\n",
    "        return len(self.input_encodings['input_ids'])\n",
    "\n",
    "    def __getitem__(self, idx):\n",
    "        input_ids = self.input_encodings['input_ids'][idx]\n",
    "        attention_mask = self.input_encodings['attention_mask'][idx]\n",
    "        labels = self.target_encodings['input_ids'][idx]\n",
    "        return {\n",
    "            'input_ids': input_ids,\n",
    "            'attention_mask': attention_mask,\n",
    "            'labels': labels\n",
    "        }\n",
    "\n",
    "dataset = TextDataset(input_encodings, target_encodings)\n",
    "\n",
    "# Initializing the model\n",
    "model = GPT2LMHeadModel.from_pretrained('gpt2')\n",
    "model.config.pad_token_id = model.config.eos_token_id\n",
    "\n",
    "#  Defining training arguments\n",
    "training_args = TrainingArguments(\n",
    "    output_dir='./results',          # Output directory\n",
    "    num_train_epochs=4,              # number of training epochs\n",
    "    per_device_train_batch_size=4,   # Batch size per device during training\n",
    "    logging_dir='./logs',            # Directory for  logs\n",
    "    logging_steps=10,\n",
    ")\n",
    "\n",
    "# Initialize Trainer\n",
    "trainer = Trainer(\n",
    "    model=model,\n",
    "    args=training_args,\n",
    "    train_dataset=dataset,\n",
    ")\n",
    "\n",
    "# Start training\n",
    "trainer.train()\n",
    "\n",
    "#Save the fine-tuned model\n",
    "model.save_pretrained(\"./dob\")\n",
    "tokenizer.save_pretrained(\"./dob\")\n"
   ]
  },
  {
   "cell_type": "markdown",
   "metadata": {},
   "source": [
    "Run the fine tuned GPT"
   ]
  },
  {
   "cell_type": "code",
   "execution_count": null,
   "metadata": {},
   "outputs": [],
   "source": [
    "from transformers import GPT2LMHeadModel, GPT2Tokenizer, pipeline\n",
    "\n",
    "\n",
    "# Load fine-tuned model\n",
    "model = GPT2LMHeadModel.from_pretrained(\"./finetuned\")\n",
    "tokenizer = GPT2Tokenizer.from_pretrained(\"./finetuned\")\n",
    "\n",
    "#  generation pipeline\n",
    "text_generator = pipeline(\"text-generation\", model=model, tokenizer=tokenizer)\n",
    "\n",
    "# Generating text (change max length for, well, more length)\n",
    "generated_text = text_generator(\"how are you \", max_length=50)[0]['generated_text']\n",
    "\n",
    "print(generated_text)"
   ]
  },
  {
   "cell_type": "markdown",
   "metadata": {},
   "source": [
    "############################\n",
    "\n",
    "codes for text to speech \n",
    "\n",
    "############################"
   ]
  },
  {
   "cell_type": "markdown",
   "metadata": {},
   "source": [
    "function to turn csv dataset to text file with one empty line between them (for audio generation)"
   ]
  },
  {
   "cell_type": "code",
   "execution_count": null,
   "metadata": {},
   "outputs": [],
   "source": [
    "import csv\n",
    "\n",
    "def csv_column_to_text_with_separator(input_csv_path, column_name, output_text_path):\n",
    "\n",
    "    with open(input_csv_path, mode='r', newline='', encoding='utf-8') as csv_file:\n",
    "        # Initialize the CSV reader\n",
    "        reader = csv.DictReader(csv_file)\n",
    "        \n",
    "        with open(output_text_path, mode='w', encoding='utf-8') as text_file:\n",
    "            # Write each value from the specified column to the text file, followed by an empty line\n",
    "            for row in reader:\n",
    "                if column_name in row:\n",
    "                    text_file.write(row[column_name] + '\\n\\n')\n",
    "                else:\n",
    "                    print(f\"Column '{column_name}' not found in the CSV file.\")\n",
    "\n",
    "input_csv = './hate.csv'\n",
    "column_name = 'text'\n",
    "output_text = 'new.txt'\n",
    "csv_column_to_text_with_separator(input_csv, column_name, output_text)"
   ]
  },
  {
   "cell_type": "markdown",
   "metadata": {},
   "source": [
    "code for selecting random lines (for audio generation)"
   ]
  },
  {
   "cell_type": "code",
   "execution_count": null,
   "metadata": {},
   "outputs": [],
   "source": [
    "import random\n",
    "\n",
    "def get_random_lines_with_number_at_end(filename, num_lines=5, start_number=1):\n",
    "\n",
    "    try:\n",
    "        with open(filename, 'r', encoding='utf-8') as file:\n",
    "            lines = file.readlines()\n",
    "        \n",
    "        if num_lines > len(lines):\n",
    "            print(f\"File has only {len(lines)} lines. Adjusting num_lines to {len(lines)}.\")\n",
    "            num_lines = len(lines)\n",
    "        \n",
    "        random_lines = random.sample(lines, num_lines)\n",
    "        \n",
    "        for i, line in enumerate(random_lines, start=start_number):\n",
    "            print(f\"{line.strip()} \")\n",
    "    except FileNotFoundError:\n",
    "        print(f\"File '{filename}' not found.\")\n",
    "    except Exception as e:\n",
    "        print(f\"An error occurred: {e}\")\n",
    "\n",
    "\n",
    "get_random_lines_with_number_at_end('./tweets.txt', num_lines=5, start_number=1)\n"
   ]
  }
 ],
 "metadata": {
  "kernelspec": {
   "display_name": "Python 3",
   "language": "python",
   "name": "python3"
  },
  "language_info": {
   "codemirror_mode": {
    "name": "ipython",
    "version": 3
   },
   "file_extension": ".py",
   "mimetype": "text/x-python",
   "name": "python",
   "nbconvert_exporter": "python",
   "pygments_lexer": "ipython3",
   "version": "3.11.8"
  }
 },
 "nbformat": 4,
 "nbformat_minor": 2
}
